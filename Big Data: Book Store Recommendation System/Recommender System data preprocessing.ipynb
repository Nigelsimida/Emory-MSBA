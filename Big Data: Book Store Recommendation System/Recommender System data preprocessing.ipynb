{
 "cells": [
  {
   "cell_type": "code",
   "execution_count": 69,
   "id": "24914aff",
   "metadata": {},
   "outputs": [
    {
     "data": {
      "application/vnd.jupyter.widget-view+json": {
       "model_id": "",
       "version_major": 2,
       "version_minor": 0
      },
      "text/plain": [
       "FloatProgress(value=0.0, bar_style='info', description='Progress:', layout=Layout(height='25px', width='50%'),…"
      ]
     },
     "metadata": {},
     "output_type": "display_data"
    }
   ],
   "source": [
    "# %pip install flair  tensorflow"
   ]
  },
  {
   "cell_type": "code",
   "execution_count": 8,
   "id": "7e2c0b31",
   "metadata": {},
   "outputs": [],
   "source": [
    "%%local\n",
    "import flair\n",
    "import os\n",
    "import pandas as pd\n",
    "import numpy as np\n",
    "from flair.data import Sentence"
   ]
  },
  {
   "cell_type": "code",
   "execution_count": 9,
   "id": "ebbdc143",
   "metadata": {},
   "outputs": [],
   "source": [
    "%%local\n",
    "path = \"s3://fnzoton-gbs/\"\n",
    "users = ['user_rating_0_to_1000.csv',\n",
    "         'user_rating_1000_to_2000.csv',\n",
    "         'user_rating_2000_to_3000.csv',\n",
    "         'user_rating_3000_to_4000.csv',\n",
    "         'user_rating_4000_to_5000.csv',\n",
    "         'user_rating_5000_to_6000.csv',\n",
    "         'user_rating_6000_to_11000.csv']"
   ]
  },
  {
   "cell_type": "code",
   "execution_count": 52,
   "id": "3f2676db",
   "metadata": {},
   "outputs": [],
   "source": [
    "%%local\n",
    "df_list = [pd.read_csv(f\"{path}{f}\") for f in users]\n",
    "df_user = pd.concat(df_list)\n",
    "df_user.drop(df_user[df_user[\"Name\"] == \"Rating\"].index,axis=0, inplace=True)"
   ]
  },
  {
   "cell_type": "code",
   "execution_count": 53,
   "id": "01a61957",
   "metadata": {},
   "outputs": [
    {
     "data": {
      "text/plain": [
       "(4118, 102744)"
      ]
     },
     "execution_count": 53,
     "metadata": {},
     "output_type": "execute_result"
    }
   ],
   "source": [
    "%%local\n",
    "user_ids = df_user[\"ID\"].unique().tolist()\n",
    "user2user_encoded = {x: i for i, x in enumerate(user_ids)}\n",
    "userencoded2user = {i: x for i, x in enumerate(user_ids)}\n",
    "book_ids = df_user[\"Name\"].unique().tolist()\n",
    "book2book_encoded = {x: i for i, x in enumerate(book_ids)}\n",
    "book_encoded2book = {i: x for i, x in enumerate(book_ids)}\n",
    "df_user[\"User\"] = df_user[\"ID\"].map(user2user_encoded)\n",
    "df_user[\"Book\"] = df_user[\"Name\"].map(book2book_encoded)\n",
    "num_users = len(user2user_encoded)\n",
    "num_books = len(book_encoded2book)\n",
    "num_users, num_books"
   ]
  },
  {
   "cell_type": "code",
   "execution_count": 54,
   "id": "566fc771",
   "metadata": {},
   "outputs": [],
   "source": [
    "%%local\n",
    "df_user = df_user.reset_index().rename({\"index\":\"Index\"},axis=1)"
   ]
  },
  {
   "cell_type": "code",
   "execution_count": 55,
   "id": "b59b659b",
   "metadata": {},
   "outputs": [],
   "source": [
    "%%local\n",
    "classifier = flair.models.TextClassifier.load('en-sentiment')"
   ]
  },
  {
   "cell_type": "code",
   "execution_count": 56,
   "id": "06262f2a",
   "metadata": {},
   "outputs": [],
   "source": [
    "%%local\n",
    "sentences = [Sentence(s) for s in df_user[\"Rating\"]]"
   ]
  },
  {
   "cell_type": "code",
   "execution_count": 57,
   "id": "1c90da48",
   "metadata": {},
   "outputs": [
    {
     "name": "stdout",
     "output_type": "stream",
     "text": [
      "500/2000\n",
      "1000/2000\n",
      "1500/2000\n",
      "2000/2000\n"
     ]
    }
   ],
   "source": [
    "%%local\n",
    "size = len(sentences)\n",
    "for i in range(len(sentences)):\n",
    "    classifier.predict(sentences[i])\n",
    "    if (i+1) % 500 == 0:\n",
    "        print(f\"{i+1}/{size}\")"
   ]
  },
  {
   "cell_type": "code",
   "execution_count": 58,
   "id": "60e9b391",
   "metadata": {},
   "outputs": [],
   "source": [
    "%%local\n",
    "def get_score(sentences):\n",
    "    return np.array([sentence.score if sentence.tag == \"POSITIVE\" else -sentence.score for sentence in sentences])     \n",
    "sentiment_scores = get_score(sentences)"
   ]
  },
  {
   "cell_type": "code",
   "execution_count": 59,
   "id": "c32d4f43",
   "metadata": {},
   "outputs": [],
   "source": [
    "%%local\n",
    "df_user[\"Scores\"] = sentiment_scores"
   ]
  },
  {
   "cell_type": "code",
   "execution_count": 60,
   "id": "f0d39323",
   "metadata": {},
   "outputs": [
    {
     "data": {
      "application/vnd.jupyter.widget-view+json": {
       "model_id": "a7bdf3a70c504ab49d92410a3432f033",
       "version_major": 2,
       "version_minor": 0
      },
      "text/plain": [
       "VBox(children=(HBox(children=(HTML(value='Type:'), Button(description='Table', layout=Layout(width='70px'), st…"
      ]
     },
     "metadata": {},
     "output_type": "display_data"
    },
    {
     "data": {
      "application/vnd.jupyter.widget-view+json": {
       "model_id": "0a6423522a32498298733a457853fc6f",
       "version_major": 2,
       "version_minor": 0
      },
      "text/plain": [
       "Output()"
      ]
     },
     "metadata": {},
     "output_type": "display_data"
    }
   ],
   "source": [
    "%%local\n",
    "df_user.head(20)"
   ]
  },
  {
   "cell_type": "code",
   "execution_count": 66,
   "id": "e717c348",
   "metadata": {},
   "outputs": [],
   "source": [
    "%%local\n",
    "df_user.to_csv(f\"{path}rating_preprocessed.csv\",index=False)"
   ]
  },
  {
   "cell_type": "code",
   "execution_count": null,
   "id": "af3cb07e",
   "metadata": {},
   "outputs": [],
   "source": []
  }
 ],
 "metadata": {
  "kernelspec": {
   "display_name": "PySpark",
   "language": "python",
   "name": "pysparkkernel"
  },
  "language_info": {
   "codemirror_mode": {
    "name": "python",
    "version": 3
   },
   "file_extension": ".py",
   "mimetype": "text/x-python",
   "name": "pyspark",
   "pygments_lexer": "python3"
  }
 },
 "nbformat": 4,
 "nbformat_minor": 5
}
