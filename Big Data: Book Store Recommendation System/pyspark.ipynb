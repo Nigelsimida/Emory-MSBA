{
 "cells": [
  {
   "cell_type": "markdown",
   "metadata": {},
   "source": [
    "## Pre Setting"
   ]
  },
  {
   "cell_type": "code",
   "execution_count": 37,
   "metadata": {},
   "outputs": [
    {
     "name": "stderr",
     "output_type": "stream",
     "text": [
      "An error was encountered:\n",
      "Invalid status code '404' from http://ip-172-31-7-69.ec2.internal:8998/sessions/1 with error payload: {\"msg\":\"Session '1' not found.\"}\n"
     ]
    }
   ],
   "source": [
    "import os\n",
    "from pyspark.sql import SparkSession\n",
    "from pyspark import SparkContext\n",
    "from functools import reduce\n",
    "from pyspark.sql import DataFrame\n",
    "from pyspark.sql import functions as F\n",
    "from pyspark.sql import SQLContext\n",
    "from pyspark.sql.functions import col,lit\n",
    "from pyspark.sql.types import StringType\n",
    "\n",
    "from pyspark import SparkFiles"
   ]
  },
  {
   "cell_type": "code",
   "execution_count": 2,
   "metadata": {},
   "outputs": [
    {
     "data": {
      "application/vnd.jupyter.widget-view+json": {
       "model_id": "",
       "version_major": 2,
       "version_minor": 0
      },
      "text/plain": [
       "FloatProgress(value=0.0, bar_style='info', description='Progress:', layout=Layout(height='25px', width='50%'),…"
      ]
     },
     "metadata": {},
     "output_type": "display_data"
    }
   ],
   "source": [
    "sc = SparkSession.builder.getOrCreate()"
   ]
  },
  {
   "cell_type": "code",
   "execution_count": 3,
   "metadata": {},
   "outputs": [
    {
     "data": {
      "application/vnd.jupyter.widget-view+json": {
       "model_id": "",
       "version_major": 2,
       "version_minor": 0
      },
      "text/plain": [
       "FloatProgress(value=0.0, bar_style='info', description='Progress:', layout=Layout(height='25px', width='50%'),…"
      ]
     },
     "metadata": {},
     "output_type": "display_data"
    }
   ],
   "source": [
    "sqlContext = SQLContext(sc)"
   ]
  },
  {
   "cell_type": "code",
   "execution_count": 2,
   "metadata": {},
   "outputs": [
    {
     "data": {
      "application/vnd.jupyter.widget-view+json": {
       "model_id": "",
       "version_major": 2,
       "version_minor": 0
      },
      "text/plain": [
       "FloatProgress(value=0.0, bar_style='info', description='Progress:', layout=Layout(height='25px', width='50%'),…"
      ]
     },
     "metadata": {},
     "output_type": "display_data"
    },
    {
     "name": "stdout",
     "output_type": "stream",
     "text": [
      "DataFrame[Id: string, Name: string, Authors: string, ISBN: string, Rating: string, PublishYear: string, PublishMonth: string, PublishDay: string, Publisher: string, RatingDist5: string, RatingDist4: string, RatingDist3: string, RatingDist2: string, RatingDist1: string, RatingDistTotal: string, CountsOfReview: string, Language: string, pagesNumber: string, Description: string, Count of text reviews: string]"
     ]
    }
   ],
   "source": [
    "# Choose the columns with the largest number as \"full column\" -> \"standard column\"\n",
    "# the file 'book800k-900k.csv' has all 20 columns, so we read it and save its columns as the benchmark for other files we are going to read \n",
    "\n",
    "full_col_df = spark.read.csv('s3://team10final/goodreads/cleansed data/book800k-900k.csv',header =True)\n",
    "full_col_df=full_col_df.drop('_c0')\n",
    "full_col_df"
   ]
  },
  {
   "cell_type": "code",
   "execution_count": 3,
   "metadata": {},
   "outputs": [
    {
     "data": {
      "application/vnd.jupyter.widget-view+json": {
       "model_id": "",
       "version_major": 2,
       "version_minor": 0
      },
      "text/plain": [
       "FloatProgress(value=0.0, bar_style='info', description='Progress:', layout=Layout(height='25px', width='50%'),…"
      ]
     },
     "metadata": {},
     "output_type": "display_data"
    },
    {
     "name": "stdout",
     "output_type": "stream",
     "text": [
      "['Id', 'Name', 'Authors', 'ISBN', 'Rating', 'PublishYear', 'PublishMonth', 'PublishDay', 'Publisher', 'RatingDist5', 'RatingDist4', 'RatingDist3', 'RatingDist2', 'RatingDist1', 'RatingDistTotal', 'CountsOfReview', 'Language', 'pagesNumber', 'Description', 'Count of text reviews']"
     ]
    }
   ],
   "source": [
    "standard_col = full_col_df.columns\n",
    "standard_col # check all columns we need"
   ]
  },
  {
   "cell_type": "code",
   "execution_count": 5,
   "metadata": {},
   "outputs": [
    {
     "data": {
      "application/vnd.jupyter.widget-view+json": {
       "model_id": "",
       "version_major": 2,
       "version_minor": 0
      },
      "text/plain": [
       "FloatProgress(value=0.0, bar_style='info', description='Progress:', layout=Layout(height='25px', width='50%'),…"
      ]
     },
     "metadata": {},
     "output_type": "display_data"
    },
    {
     "name": "stdout",
     "output_type": "stream",
     "text": [
      "book100k-200k\n",
      "57046\n",
      "20\n",
      "book200k-300k\n",
      "56182\n",
      "20\n",
      "book300k-400k\n",
      "56586\n",
      "20\n",
      "book400k-500k\n",
      "55155\n",
      "20\n",
      "book500k-600k\n",
      "54859\n",
      "20\n",
      "book600k-700k\n",
      "56827\n",
      "20\n",
      "book700k-800k\n",
      "55913\n",
      "20\n",
      "book800k-900k\n",
      "51480\n",
      "20\n",
      "book900k-1000k\n",
      "42163\n",
      "20\n",
      "book1000k-1100k\n",
      "41063\n",
      "20\n",
      "book1100k-1200k\n",
      "43294\n",
      "20\n",
      "book1200k-1300k\n",
      "44799\n",
      "20\n",
      "book1300k-1400k\n",
      "39323\n",
      "20\n",
      "book1400k-1500k\n",
      "35793\n",
      "20\n",
      "book1500k-1600k\n",
      "34474\n",
      "20\n",
      "book1600k-1700k\n",
      "33867\n",
      "20\n",
      "book1700k-1800k\n",
      "33042\n",
      "20\n",
      "book1800k-1900k\n",
      "39751\n",
      "20\n",
      "book1900k-2000k\n",
      "44480\n",
      "20"
     ]
    }
   ],
   "source": [
    "# load the data part1 to part 20 (corresponding to book100-200k to book1900k-2000k) (structured table name)\n",
    "df = {}\n",
    "for i in range(1,20):\n",
    "    name=str(i)+\"00\"\n",
    "    name_1 = str(i+1)+'00'\n",
    "    file_name = 'book'+name+'k'+'-'+name_1+'k' # specify the file name we want to load at this iteration\n",
    "    print(file_name)\n",
    "    file = 's3://team10final/goodreads/cleansed data/'+file_name+'.csv'\n",
    "    df[str(i)] = spark.read.option(\"delimiter\", \",\").csv(file,header=True)\n",
    "    df[str(i)] = df[str(i)].drop('_c0')\n",
    "    # create a empty column for a dataframe has less than 20 columns\n",
    "    if len(df[str(i)].columns) <20:\n",
    "        \n",
    "        # iterate every column name all 20 columns\n",
    "        for j in standard_col:\n",
    "            if j not in df[str(i)].columns:\n",
    "                df[str(i)] = df[str(i)].withColumn(str(j), lit(None)) # check missing column for each file, and create a empty column for those files having missing column\n",
    "                \n",
    "    df[str(i)].count() # check number of rows\n",
    "    \n",
    "    len(df[str(i)].columns) # check number of columns"
   ]
  },
  {
   "cell_type": "code",
   "execution_count": 6,
   "metadata": {},
   "outputs": [
    {
     "data": {
      "application/vnd.jupyter.widget-view+json": {
       "model_id": "",
       "version_major": 2,
       "version_minor": 0
      },
      "text/plain": [
       "FloatProgress(value=0.0, bar_style='info', description='Progress:', layout=Layout(height='25px', width='50%'),…"
      ]
     },
     "metadata": {},
     "output_type": "display_data"
    }
   ],
   "source": [
    "# load data part2 (unstructer for 'for loop')\n",
    "df['0'] = spark.read.option(\"delimiter\", \",\").csv('s3://team10final/goodreads/cleansed data/book1-100k.csv',header=True,\n",
    "                     inferSchema=True)\n",
    "df['0'] = df['0'].drop('_c0')\n",
    "df['20'] = spark.read.option(\"delimiter\", \",\").csv('s3://team10final/goodreads/cleansed data/book2000k-3000k.csv',header=True,\n",
    "                     inferSchema=True)\n",
    "df['20'] = df['20'].drop('_c0')\n",
    "df['21'] = spark.read.option(\"delimiter\", \",\").csv('s3://team10final/goodreads/cleansed data/book3000k-4000k.csv',header=True,\n",
    "                     inferSchema=True)\n",
    "df['21'] = df['21'].drop('_c0')\n",
    "df['22'] = spark.read.option(\"delimiter\", \",\").csv('s3://team10final/goodreads/cleansed data/book4000k-5000k.csv',header=True,\n",
    "                     inferSchema=True)\n",
    "df['22'] = df['22'].drop('_c0')\n"
   ]
  },
  {
   "cell_type": "code",
   "execution_count": 7,
   "metadata": {},
   "outputs": [
    {
     "data": {
      "application/vnd.jupyter.widget-view+json": {
       "model_id": "",
       "version_major": 2,
       "version_minor": 0
      },
      "text/plain": [
       "FloatProgress(value=0.0, bar_style='info', description='Progress:', layout=Layout(height='25px', width='50%'),…"
      ]
     },
     "metadata": {},
     "output_type": "display_data"
    },
    {
     "name": "stdout",
     "output_type": "stream",
     "text": [
      "20\n",
      "20\n",
      "20\n",
      "20"
     ]
    }
   ],
   "source": [
    "for i in [0,20,21,22]:\n",
    "    if len(df[str(i)].columns) <21:\n",
    "        for j in standard_col:\n",
    "            if j not in df[str(i)].columns:\n",
    "                df[str(i)] = df[str(i)].withColumn(str(j), lit(None)) # create a empty column\n",
    "    len(df[str(i)].columns)"
   ]
  },
  {
   "cell_type": "code",
   "execution_count": 8,
   "metadata": {},
   "outputs": [
    {
     "data": {
      "application/vnd.jupyter.widget-view+json": {
       "model_id": "",
       "version_major": 2,
       "version_minor": 0
      },
      "text/plain": [
       "FloatProgress(value=0.0, bar_style='info', description='Progress:', layout=Layout(height='25px', width='50%'),…"
      ]
     },
     "metadata": {},
     "output_type": "display_data"
    }
   ],
   "source": [
    "# reorder the columns for each file in our dictionary for future concat\n",
    "df['0'] = df['0'][standard_col]\n",
    "df['1'] = df['1'][standard_col]\n",
    "df['2'] = df['2'][standard_col]\n",
    "df['3'] = df['3'][standard_col]\n",
    "df['4'] = df['4'][standard_col]\n",
    "df['5'] = df['5'][standard_col]\n",
    "df['6'] = df['6'][standard_col]\n",
    "df['7'] = df['7'][standard_col]\n",
    "df['8'] = df['8'][standard_col]\n",
    "df['9'] = df['9'][standard_col]\n",
    "df['10'] = df['10'][standard_col]\n",
    "df['11'] = df['11'][standard_col]\n",
    "df['12'] = df['12'][standard_col]\n",
    "df['13'] = df['13'][standard_col]\n",
    "df['14'] = df['14'][standard_col]\n",
    "df['15'] = df['15'][standard_col]\n",
    "df['16'] = df['16'][standard_col]\n",
    "df['17'] = df['17'][standard_col]\n",
    "df['18'] = df['18'][standard_col]\n",
    "df['19'] = df['19'][standard_col]\n",
    "df['20'] = df['20'][standard_col]\n",
    "df['21'] = df['21'][standard_col]\n",
    "df['22'] = df['22'][standard_col]\n"
   ]
  },
  {
   "cell_type": "code",
   "execution_count": 9,
   "metadata": {},
   "outputs": [
    {
     "data": {
      "application/vnd.jupyter.widget-view+json": {
       "model_id": "",
       "version_major": 2,
       "version_minor": 0
      },
      "text/plain": [
       "FloatProgress(value=0.0, bar_style='info', description='Progress:', layout=Layout(height='25px', width='50%'),…"
      ]
     },
     "metadata": {},
     "output_type": "display_data"
    },
    {
     "name": "stdout",
     "output_type": "stream",
     "text": [
      "DataFrame[Id: string, Name: string, Authors: string, ISBN: string, Rating: string, PublishYear: string, PublishMonth: string, PublishDay: string, Publisher: string, RatingDist5: string, RatingDist4: string, RatingDist3: string, RatingDist2: string, RatingDist1: string, RatingDistTotal: string, CountsOfReview: string, Language: string, pagesNumber: string, Description: string, Count of text reviews: null]"
     ]
    }
   ],
   "source": [
    "df.pop('17') # this file has really messy description for books which cannot be modified or cleansed, drop it directly for efficiency and integrity"
   ]
  },
  {
   "cell_type": "code",
   "execution_count": 12,
   "metadata": {},
   "outputs": [
    {
     "data": {
      "application/vnd.jupyter.widget-view+json": {
       "model_id": "",
       "version_major": 2,
       "version_minor": 0
      },
      "text/plain": [
       "FloatProgress(value=0.0, bar_style='info', description='Progress:', layout=Layout(height='25px', width='50%'),…"
      ]
     },
     "metadata": {},
     "output_type": "display_data"
    }
   ],
   "source": [
    "# concat all the df we imported\n",
    "df_final = df['0']\n",
    "for i in range(16):\n",
    "    df_final = df_final.union(df[str(i+1)])"
   ]
  },
  {
   "cell_type": "code",
   "execution_count": 13,
   "metadata": {},
   "outputs": [
    {
     "data": {
      "application/vnd.jupyter.widget-view+json": {
       "model_id": "",
       "version_major": 2,
       "version_minor": 0
      },
      "text/plain": [
       "FloatProgress(value=0.0, bar_style='info', description='Progress:', layout=Layout(height='25px', width='50%'),…"
      ]
     },
     "metadata": {},
     "output_type": "display_data"
    }
   ],
   "source": [
    "# concat all the df we imported\n",
    "for i in range(17,len(df)-1):\n",
    "    df_final = df_final.union(df[str(i+1)])"
   ]
  },
  {
   "cell_type": "code",
   "execution_count": 14,
   "metadata": {},
   "outputs": [
    {
     "data": {
      "application/vnd.jupyter.widget-view+json": {
       "model_id": "",
       "version_major": 2,
       "version_minor": 0
      },
      "text/plain": [
       "FloatProgress(value=0.0, bar_style='info', description='Progress:', layout=Layout(height='25px', width='50%'),…"
      ]
     },
     "metadata": {},
     "output_type": "display_data"
    },
    {
     "name": "stdout",
     "output_type": "stream",
     "text": [
      "-RECORD 0-------------------------------------\n",
      " Id                    | 1                    \n",
      " Name                  | Harry Potter and ... \n",
      " Authors               | J.K. Rowling         \n",
      " ISBN                  | null                 \n",
      " Rating                | 4.57                 \n",
      " PublishYear           | 2006                 \n",
      " PublishMonth          | 16                   \n",
      " PublishDay            | 9                    \n",
      " Publisher             | Scholastic Inc.      \n",
      " RatingDist5           | 5:1546466            \n",
      " RatingDist4           | 4:556485             \n",
      " RatingDist3           | 3:159960             \n",
      " RatingDist2           | 2:25317              \n",
      " RatingDist1           | 1:9896               \n",
      " RatingDistTotal       | total:2298124        \n",
      " CountsOfReview        | 28062                \n",
      " Language              | eng                  \n",
      " pagesNumber           | 652                  \n",
      " Description           | null                 \n",
      " Count of text reviews | null                 \n",
      "-RECORD 1-------------------------------------\n",
      " Id                    | 2                    \n",
      " Name                  | Harry Potter and ... \n",
      " Authors               | J.K. Rowling         \n",
      " ISBN                  | 0439358078           \n",
      " Rating                | 4.5                  \n",
      " PublishYear           | 2004                 \n",
      " PublishMonth          | 1                    \n",
      " PublishDay            | 9                    \n",
      " Publisher             | Scholastic Inc.      \n",
      " RatingDist5           | 5:1493113            \n",
      " RatingDist4           | 4:604283             \n",
      " RatingDist3           | 3:211781             \n",
      " RatingDist2           | 2:37005              \n",
      " RatingDist1           | 1:12455              \n",
      " RatingDistTotal       | total:2358637        \n",
      " CountsOfReview        | 29770                \n",
      " Language              | eng                  \n",
      " pagesNumber           | 870                  \n",
      " Description           | null                 \n",
      " Count of text reviews | null                 \n",
      "-RECORD 2-------------------------------------\n",
      " Id                    | 3                    \n",
      " Name                  | Harry Potter and ... \n",
      " Authors               | J.K. Rowling         \n",
      " ISBN                  | null                 \n",
      " Rating                | 4.47                 \n",
      " PublishYear           | 2003                 \n",
      " PublishMonth          | 1                    \n",
      " PublishDay            | 11                   \n",
      " Publisher             | Scholastic Inc       \n",
      " RatingDist5           | 5:4268227            \n",
      " RatingDist4           | 4:1513191            \n",
      " RatingDist3           | 3:567458             \n",
      " RatingDist2           | 2:130310             \n",
      " RatingDist1           | 1:108202             \n",
      " RatingDistTotal       | total:6587388        \n",
      " CountsOfReview        | 75911                \n",
      " Language              | eng                  \n",
      " pagesNumber           | 309                  \n",
      " Description           | null                 \n",
      " Count of text reviews | null                 \n",
      "-RECORD 3-------------------------------------\n",
      " Id                    | 4                    \n",
      " Name                  | Harry Potter and ... \n",
      " Authors               | J.K. Rowling         \n",
      " ISBN                  | 0439554896           \n",
      " Rating                | 4.42                 \n",
      " PublishYear           | 2003                 \n",
      " PublishMonth          | 1                    \n",
      " PublishDay            | 11                   \n",
      " Publisher             | Scholastic           \n",
      " RatingDist5           | 5:1504505            \n",
      " RatingDist4           | 4:706082             \n",
      " RatingDist3           | 3:288821             \n",
      " RatingDist2           | 2:49353              \n",
      " RatingDist1           | 1:11896              \n",
      " RatingDistTotal       | total:2560657        \n",
      " CountsOfReview        | 244                  \n",
      " Language              | eng                  \n",
      " pagesNumber           | 352                  \n",
      " Description           | null                 \n",
      " Count of text reviews | null                 \n",
      "-RECORD 4-------------------------------------\n",
      " Id                    | 5                    \n",
      " Name                  | Harry Potter and ... \n",
      " Authors               | J.K. Rowling         \n",
      " ISBN                  | 043965548X           \n",
      " Rating                | 4.57                 \n",
      " PublishYear           | 2004                 \n",
      " PublishMonth          | 1                    \n",
      " PublishDay            | 5                    \n",
      " Publisher             | Scholastic Inc.      \n",
      " RatingDist5           | 5:1749958            \n",
      " RatingDist4           | 4:630534             \n",
      " RatingDist3           | 3:194848             \n",
      " RatingDist2           | 2:24849              \n",
      " RatingDist1           | 1:10128              \n",
      " RatingDistTotal       | total:2610317        \n",
      " CountsOfReview        | 37093                \n",
      " Language              | eng                  \n",
      " pagesNumber           | 435                  \n",
      " Description           | null                 \n",
      " Count of text reviews | null                 \n",
      "-RECORD 5-------------------------------------\n",
      " Id                    | 6                    \n",
      " Name                  | Harry Potter and ... \n",
      " Authors               | J.K. Rowling         \n",
      " ISBN                  | null                 \n",
      " Rating                | 4.5600000000000005   \n",
      " PublishYear           | 2002                 \n",
      " PublishMonth          | 28                   \n",
      " PublishDay            | 9                    \n",
      " Publisher             | Scholastic           \n",
      " RatingDist5           | 5:1612165            \n",
      " RatingDist4           | 4:606800             \n",
      " RatingDist3           | 3:178419             \n",
      " RatingDist2           | 2:24282              \n",
      " RatingDist1           | 1:9419               \n",
      " RatingDistTotal       | total:2431085        \n",
      " CountsOfReview        | 31978                \n",
      " Language              | eng                  \n",
      " pagesNumber           | 734                  \n",
      " Description           | null                 \n",
      " Count of text reviews | null                 \n",
      "-RECORD 6-------------------------------------\n",
      " Id                    | 8                    \n",
      " Name                  | Harry Potter Boxe... \n",
      " Authors               | J.K. Rowling         \n",
      " ISBN                  | 0439682584           \n",
      " Rating                | 4.78                 \n",
      " PublishYear           | 2004                 \n",
      " PublishMonth          | 13                   \n",
      " PublishDay            | 9                    \n",
      " Publisher             | Scholastic           \n",
      " RatingDist5           | 5:37432              \n",
      " RatingDist4           | 4:4650               \n",
      " RatingDist3           | 3:1201               \n",
      " RatingDist2           | 2:283                \n",
      " RatingDist1           | 1:402                \n",
      " RatingDistTotal       | total:43968          \n",
      " CountsOfReview        | 166                  \n",
      " Language              | eng                  \n",
      " pagesNumber           | 2690                 \n",
      " Description           | null                 \n",
      " Count of text reviews | null                 \n",
      "-RECORD 7-------------------------------------\n",
      " Id                    | 9                    \n",
      " Name                  | \"Unauthorized Har... \n",
      " Authors               | W. Frederick Zimm... \n",
      " ISBN                  | 0976540606           \n",
      " Rating                | 3.79                 \n",
      " PublishYear           | 2005                 \n",
      " PublishMonth          | 26                   \n",
      " PublishDay            | 4                    \n",
      " Publisher             | Nimble Books         \n",
      " RatingDist5           | 5:10                 \n",
      " RatingDist4           | 4:7                  \n",
      " RatingDist3           | 3:6                  \n",
      " RatingDist2           | 2:5                  \n",
      " RatingDist1           | 1:0                  \n",
      " RatingDistTotal       | total:28             \n",
      " CountsOfReview        | 1                    \n",
      " Language              | en-US                \n",
      " pagesNumber           | 152                  \n",
      " Description           | null                 \n",
      " Count of text reviews | null                 \n",
      "-RECORD 8-------------------------------------\n",
      " Id                    | 10                   \n",
      " Name                  | Harry Potter Coll... \n",
      " Authors               | J.K. Rowling         \n",
      " ISBN                  | 0439827604           \n",
      " Rating                | 4.73                 \n",
      " PublishYear           | 2005                 \n",
      " PublishMonth          | 12                   \n",
      " PublishDay            | 9                    \n",
      " Publisher             | Scholastic           \n",
      " RatingDist5           | 5:24406              \n",
      " RatingDist4           | 4:4358               \n",
      " RatingDist3           | 3:1074               \n",
      " RatingDist2           | 2:218                \n",
      " RatingDist1           | 1:257                \n",
      " RatingDistTotal       | total:30313          \n",
      " CountsOfReview        | 809                  \n",
      " Language              | eng                  \n",
      " pagesNumber           | 3342                 \n",
      " Description           | null                 \n",
      " Count of text reviews | null                 \n",
      "-RECORD 9-------------------------------------\n",
      " Id                    | 12                   \n",
      " Name                  | The Ultimate Hitc... \n",
      " Authors               | Douglas Adams        \n",
      " ISBN                  | 0517226952           \n",
      " Rating                | 4.37                 \n",
      " PublishYear           | 2005                 \n",
      " PublishMonth          | 1                    \n",
      " PublishDay            | 11                   \n",
      " Publisher             | Gramercy Books       \n",
      " RatingDist5           | 5:157499             \n",
      " RatingDist4           | 4:75683              \n",
      " RatingDist3           | 3:30030              \n",
      " RatingDist2           | 2:7613               \n",
      " RatingDist1           | 1:3443               \n",
      " RatingDistTotal       | total:274268         \n",
      " CountsOfReview        | 255                  \n",
      " Language              | eng                  \n",
      " pagesNumber           | 815                  \n",
      " Description           | null                 \n",
      " Count of text reviews | null                 \n",
      "-RECORD 10------------------------------------\n",
      " Id                    | 13                   \n",
      " Name                  | The Ultimate Hitc... \n",
      " Authors               | Douglas Adams        \n",
      " ISBN                  | 0345453743           \n",
      " Rating                | 4.37                 \n",
      " PublishYear           | 2002                 \n",
      " PublishMonth          | 30                   \n",
      " PublishDay            | 4                    \n",
      " Publisher             | Del Rey Books        \n",
      " RatingDist5           | 5:157499             \n",
      " RatingDist4           | 4:75683              \n",
      " RatingDist3           | 3:30030              \n",
      " RatingDist2           | 2:7613               \n",
      " RatingDist1           | 1:3443               \n",
      " RatingDistTotal       | total:274268         \n",
      " CountsOfReview        | 4119                 \n",
      " Language              | eng                  \n",
      " pagesNumber           | 815                  \n",
      " Description           | null                 \n",
      " Count of text reviews | null                 \n",
      "-RECORD 11------------------------------------\n",
      " Id                    | 14                   \n",
      " Name                  | The Hitchhiker's ... \n",
      " Authors               | Douglas Adams        \n",
      " ISBN                  | 1400052920           \n",
      " Rating                | 4.22                 \n",
      " PublishYear           | 2004                 \n",
      " PublishMonth          | 3                    \n",
      " PublishDay            | 8                    \n",
      " Publisher             | Crown                \n",
      " RatingDist5           | 5:682711             \n",
      " RatingDist4           | 4:396332             \n",
      " RatingDist3           | 3:188241             \n",
      " RatingDist2           | 2:54163              \n",
      " RatingDist1           | 1:28636              \n",
      " RatingDistTotal       | total:1350083        \n",
      " CountsOfReview        | 470                  \n",
      " Language              | eng                  \n",
      " pagesNumber           | 215                  \n",
      " Description           | null                 \n",
      " Count of text reviews | null                 \n",
      "-RECORD 12------------------------------------\n",
      " Id                    | 18                   \n",
      " Name                  | The Ultimate Hitc... \n",
      " Authors               | Douglas Adams        \n",
      " ISBN                  | 0517149257           \n",
      " Rating                | 4.37                 \n",
      " PublishYear           | 1996                 \n",
      " PublishMonth          | 17                   \n",
      " PublishDay            | 1                    \n",
      " Publisher             | Wings Books          \n",
      " RatingDist5           | 5:157499             \n",
      " RatingDist4           | 4:75683              \n",
      " RatingDist3           | 3:30030              \n",
      " RatingDist2           | 2:7613               \n",
      " RatingDist1           | 1:3443               \n",
      " RatingDistTotal       | total:274268         \n",
      " CountsOfReview        | 194                  \n",
      " Language              | eng                  \n",
      " pagesNumber           | 815                  \n",
      " Description           | null                 \n",
      " Count of text reviews | null                 \n",
      "-RECORD 13------------------------------------\n",
      " Id                    | 21                   \n",
      " Name                  | A Short History o... \n",
      " Authors               | Bill Bryson          \n",
      " ISBN                  | 076790818X           \n",
      " Rating                | 4.21                 \n",
      " PublishYear           | 2004                 \n",
      " PublishMonth          | 14                   \n",
      " PublishDay            | 9                    \n",
      " Publisher             | Broadway Books       \n",
      " RatingDist5           | 5:129555             \n",
      " RatingDist4           | 4:94040              \n",
      " RatingDist3           | 3:38064              \n",
      " RatingDist2           | 2:9367               \n",
      " RatingDist1           | 1:5140               \n",
      " RatingDistTotal       | total:276166         \n",
      " CountsOfReview        | 9545                 \n",
      " Language              | eng                  \n",
      " pagesNumber           | 544                  \n",
      " Description           | null                 \n",
      " Count of text reviews | null                 \n",
      "-RECORD 14------------------------------------\n",
      " Id                    | 22                   \n",
      " Name                  | Bill Bryson's Afr... \n",
      " Authors               | Bill Bryson          \n",
      " ISBN                  | 0767915062           \n",
      " Rating                | 3.45                 \n",
      " PublishYear           | 2002                 \n",
      " PublishMonth          | 3                    \n",
      " PublishDay            | 12                   \n",
      " Publisher             | Broadway Books       \n",
      " RatingDist5           | 5:1408               \n",
      " RatingDist4           | 4:2409               \n",
      " RatingDist3           | 3:3342               \n",
      " RatingDist2           | 2:985                \n",
      " RatingDist1           | 1:249                \n",
      " RatingDistTotal       | total:8393           \n",
      " CountsOfReview        | 503                  \n",
      " Language              | eng                  \n",
      " pagesNumber           | 55                   \n",
      " Description           | null                 \n",
      " Count of text reviews | null                 \n",
      "-RECORD 15------------------------------------\n",
      " Id                    | 23                   \n",
      " Name                  | Bryson's Dictiona... \n",
      " Authors               | Bill Bryson          \n",
      " ISBN                  | 0767910435           \n",
      " Rating                | 3.88                 \n",
      " PublishYear           | 2004                 \n",
      " PublishMonth          | 14                   \n",
      " PublishDay            | 9                    \n",
      " Publisher             | Broadway Books       \n",
      " RatingDist5           | 5:729                \n",
      " RatingDist4           | 4:1069               \n",
      " RatingDist3           | 3:694                \n",
      " RatingDist2           | 2:128                \n",
      " RatingDist1           | 1:36                 \n",
      " RatingDistTotal       | total:2656           \n",
      " CountsOfReview        | 131                  \n",
      " Language              | eng                  \n",
      " pagesNumber           | 256                  \n",
      " Description           | null                 \n",
      " Count of text reviews | null                 \n",
      "-RECORD 16------------------------------------\n",
      " Id                    | 24                   \n",
      " Name                  | In a Sunburned Co... \n",
      " Authors               | Bill Bryson          \n",
      " ISBN                  | 0767903862           \n",
      " Rating                | 4.07                 \n",
      " PublishYear           | 2001                 \n",
      " PublishMonth          | 15                   \n",
      " PublishDay            | 5                    \n",
      " Publisher             | Broadway Books       \n",
      " RatingDist5           | 5:30483              \n",
      " RatingDist4           | 4:34941              \n",
      " RatingDist3           | 3:15976              \n",
      " RatingDist2           | 2:2900               \n",
      " RatingDist1           | 1:987                \n",
      " RatingDistTotal       | total:85287          \n",
      " CountsOfReview        | 4298                 \n",
      " Language              | eng                  \n",
      " pagesNumber           | 335                  \n",
      " Description           | null                 \n",
      " Count of text reviews | null                 \n",
      "-RECORD 17------------------------------------\n",
      " Id                    | 25                   \n",
      " Name                  | I'm a Stranger He... \n",
      " Authors               | Bill Bryson          \n",
      " ISBN                  | 076790382X           \n",
      " Rating                | 3.9                  \n",
      " PublishYear           | 2000                 \n",
      " PublishMonth          | 28                   \n",
      " PublishDay            | 6                    \n",
      " Publisher             | Broadway Books       \n",
      " RatingDist5           | 5:15891              \n",
      " RatingDist4           | 4:22652              \n",
      " RatingDist3           | 3:14089              \n",
      " RatingDist2           | 2:2709               \n",
      " RatingDist1           | 1:741                \n",
      " RatingDistTotal       | total:56082          \n",
      " CountsOfReview        | 2224                 \n",
      " Language              | eng                  \n",
      " pagesNumber           | 304                  \n",
      " Description           | null                 \n",
      " Count of text reviews | null                 \n",
      "-RECORD 18------------------------------------\n",
      " Id                    | 26                   \n",
      " Name                  | The Lost Continen... \n",
      " Authors               | Bill Bryson          \n",
      " ISBN                  | 0060920084           \n",
      " Rating                | 3.83                 \n",
      " PublishYear           | 1990                 \n",
      " PublishMonth          | 28                   \n",
      " PublishDay            | 8                    \n",
      " Publisher             | William Morrow Pa... \n",
      " RatingDist5           | 5:14013              \n",
      " RatingDist4           | 4:18427              \n",
      " RatingDist3           | 3:11980              \n",
      " RatingDist2           | 2:3219               \n",
      " RatingDist1           | 1:1373               \n",
      " RatingDistTotal       | total:49012          \n",
      " CountsOfReview        | 2276                 \n",
      " Language              | eng                  \n",
      " pagesNumber           | 299                  \n",
      " Description           | null                 \n",
      " Count of text reviews | null                 \n",
      "-RECORD 19------------------------------------\n",
      " Id                    | 27                   \n",
      " Name                  | Neither Here nor ... \n",
      " Authors               | Bill Bryson          \n",
      " ISBN                  | 0380713802           \n",
      " Rating                | 3.86                 \n",
      " PublishYear           | 1993                 \n",
      " PublishMonth          | 28                   \n",
      " PublishDay            | 3                    \n",
      " Publisher             | William Morrow Pa... \n",
      " RatingDist5           | 5:15888              \n",
      " RatingDist4           | 4:20655              \n",
      " RatingDist3           | 3:13368              \n",
      " RatingDist2           | 2:3305               \n",
      " RatingDist1           | 1:1172               \n",
      " RatingDistTotal       | total:54388          \n",
      " CountsOfReview        | 2264                 \n",
      " Language              | eng                  \n",
      " pagesNumber           | 254                  \n",
      " Description           | null                 \n",
      " Count of text reviews | null                 \n",
      "only showing top 20 rows"
     ]
    }
   ],
   "source": [
    "df_final.show(vertical=True) "
   ]
  },
  {
   "cell_type": "code",
   "execution_count": 15,
   "metadata": {},
   "outputs": [
    {
     "data": {
      "application/vnd.jupyter.widget-view+json": {
       "model_id": "",
       "version_major": 2,
       "version_minor": 0
      },
      "text/plain": [
       "FloatProgress(value=0.0, bar_style='info', description='Progress:', layout=Layout(height='25px', width='50%'),…"
      ]
     },
     "metadata": {},
     "output_type": "display_data"
    }
   ],
   "source": [
    "df_books=df_final#########tt"
   ]
  },
  {
   "cell_type": "code",
   "execution_count": 45,
   "metadata": {},
   "outputs": [
    {
     "data": {
      "application/vnd.jupyter.widget-view+json": {
       "model_id": "",
       "version_major": 2,
       "version_minor": 0
      },
      "text/plain": [
       "FloatProgress(value=0.0, bar_style='info', description='Progress:', layout=Layout(height='25px', width='50%'),…"
      ]
     },
     "metadata": {},
     "output_type": "display_data"
    },
    {
     "name": "stdout",
     "output_type": "stream",
     "text": [
      "root\n",
      " |-- Id: string (nullable = true)\n",
      " |-- Name: string (nullable = true)\n",
      " |-- Authors: string (nullable = true)\n",
      " |-- ISBN: string (nullable = true)\n",
      " |-- Rating: string (nullable = true)\n",
      " |-- PublishYear: string (nullable = true)\n",
      " |-- PublishMonth: string (nullable = true)\n",
      " |-- PublishDay: string (nullable = true)\n",
      " |-- Publisher: string (nullable = true)\n",
      " |-- RatingDist5: string (nullable = true)\n",
      " |-- RatingDist4: string (nullable = true)\n",
      " |-- RatingDist3: string (nullable = true)\n",
      " |-- RatingDist2: string (nullable = true)\n",
      " |-- RatingDist1: string (nullable = true)\n",
      " |-- RatingDistTotal: string (nullable = true)\n",
      " |-- CountsOfReview: string (nullable = true)\n",
      " |-- Language: string (nullable = true)\n",
      " |-- pagesNumber: string (nullable = true)\n",
      " |-- Description: string (nullable = true)\n",
      " |-- Count of text reviews: string (nullable = true)"
     ]
    }
   ],
   "source": [
    "df_books.printSchema()"
   ]
  },
  {
   "cell_type": "markdown",
   "metadata": {},
   "source": [
    "# Preprocess data Change DataType\n",
    "\n",
    "## Preprocess Data\n"
   ]
  },
  {
   "cell_type": "code",
   "execution_count": 16,
   "metadata": {},
   "outputs": [
    {
     "data": {
      "application/vnd.jupyter.widget-view+json": {
       "model_id": "",
       "version_major": 2,
       "version_minor": 0
      },
      "text/plain": [
       "FloatProgress(value=0.0, bar_style='info', description='Progress:', layout=Layout(height='25px', width='50%'),…"
      ]
     },
     "metadata": {},
     "output_type": "display_data"
    },
    {
     "name": "stdout",
     "output_type": "stream",
     "text": [
      "+------------+------------+------------+------------+------------+----------------+\n",
      "|RatingDist_1|RatingDist_2|RatingDist_3|RatingDist_4|RatingDist_5|RatingDist_total|\n",
      "+------------+------------+------------+------------+------------+----------------+\n",
      "|        9896|       25317|      159960|      556485|     1546466|         2298124|\n",
      "|       12455|       37005|      211781|      604283|     1493113|         2358637|\n",
      "|      108202|      130310|      567458|     1513191|     4268227|         6587388|\n",
      "|       11896|       49353|      288821|      706082|     1504505|         2560657|\n",
      "|       10128|       24849|      194848|      630534|     1749958|         2610317|\n",
      "|        9419|       24282|      178419|      606800|     1612165|         2431085|\n",
      "|         402|         283|        1201|        4650|       37432|           43968|\n",
      "|           0|           5|           6|           7|          10|              28|\n",
      "|         257|         218|        1074|        4358|       24406|           30313|\n",
      "|        3443|        7613|       30030|       75683|      157499|          274268|\n",
      "|        3443|        7613|       30030|       75683|      157499|          274268|\n",
      "|       28636|       54163|      188241|      396332|      682711|         1350083|\n",
      "|        3443|        7613|       30030|       75683|      157499|          274268|\n",
      "|        5140|        9367|       38064|       94040|      129555|          276166|\n",
      "|         249|         985|        3342|        2409|        1408|            8393|\n",
      "|          36|         128|         694|        1069|         729|            2656|\n",
      "|         987|        2900|       15976|       34941|       30483|           85287|\n",
      "|         741|        2709|       14089|       22652|       15891|           56082|\n",
      "|        1373|        3219|       11980|       18427|       14013|           49012|\n",
      "|        1172|        3305|       13368|       20655|       15888|           54388|\n",
      "+------------+------------+------------+------------+------------+----------------+\n",
      "only showing top 20 rows"
     ]
    }
   ],
   "source": [
    "# get rid of ':' in order to create a numerical feature as the number of each rating\n",
    "df_books = df_books.withColumn(\"RatingDist_1\",F.split(\"RatingDist1\",\":\")[1])\n",
    "df_books = df_books.withColumn(\"RatingDist_2\",F.split(\"RatingDist2\",\":\")[1])\n",
    "df_books = df_books.withColumn(\"RatingDist_3\",F.split(\"RatingDist3\",\":\")[1])\n",
    "df_books = df_books.withColumn(\"RatingDist_4\",F.split(\"RatingDist4\",\":\")[1])\n",
    "df_books = df_books.withColumn(\"RatingDist_5\",F.split(\"RatingDist5\",\":\")[1])\n",
    "df_books = df_books.withColumn(\"RatingDist_total\",F.split(\"RatingDistTotal\",\":\")[1])\n",
    "df_books.select(\"RatingDist_1\",\"RatingDist_2\",\"RatingDist_3\",\"RatingDist_4\",\"RatingDist_5\",\"RatingDist_total\").show()"
   ]
  },
  {
   "cell_type": "code",
   "execution_count": 17,
   "metadata": {},
   "outputs": [
    {
     "data": {
      "application/vnd.jupyter.widget-view+json": {
       "model_id": "",
       "version_major": 2,
       "version_minor": 0
      },
      "text/plain": [
       "FloatProgress(value=0.0, bar_style='info', description='Progress:', layout=Layout(height='25px', width='50%'),…"
      ]
     },
     "metadata": {},
     "output_type": "display_data"
    },
    {
     "name": "stdout",
     "output_type": "stream",
     "text": [
      "+--------------+\n",
      "|Published_date|\n",
      "+--------------+\n",
      "|    2006-09-16|\n",
      "|    2004-09-01|\n",
      "|    2003-11-01|\n",
      "|    2003-11-01|\n",
      "|    2004-05-01|\n",
      "|    2002-09-28|\n",
      "|    2004-09-13|\n",
      "|    2005-04-26|\n",
      "|    2005-09-12|\n",
      "|    2005-11-01|\n",
      "|    2002-04-30|\n",
      "|    2004-08-03|\n",
      "|    1996-01-17|\n",
      "|    2004-09-14|\n",
      "|    2002-12-03|\n",
      "|    2004-09-14|\n",
      "|    2001-05-15|\n",
      "|    2000-06-28|\n",
      "|    1990-08-28|\n",
      "|    1993-03-28|\n",
      "+--------------+\n",
      "only showing top 20 rows"
     ]
    }
   ],
   "source": [
    "# merge three time columns to one to convert to datetime\n",
    "df_books = df_books.withColumn(\"Published_date\", F.to_date(F.concat_ws(\"-\",\"PublishYear\",\"PublishDay\",\"PublishMonth\")))\n",
    "df_books.select(\"Published_date\").show()"
   ]
  },
  {
   "cell_type": "code",
   "execution_count": 48,
   "metadata": {},
   "outputs": [
    {
     "data": {
      "application/vnd.jupyter.widget-view+json": {
       "model_id": "",
       "version_major": 2,
       "version_minor": 0
      },
      "text/plain": [
       "FloatProgress(value=0.0, bar_style='info', description='Progress:', layout=Layout(height='25px', width='50%'),…"
      ]
     },
     "metadata": {},
     "output_type": "display_data"
    },
    {
     "name": "stdout",
     "output_type": "stream",
     "text": [
      "DataFrame[Id: string, Name: string, Authors: string, ISBN: string, Rating: string, PublishYear: string, PublishMonth: string, PublishDay: string, Publisher: string, RatingDist5: string, RatingDist4: string, RatingDist3: string, RatingDist2: string, RatingDist1: string, RatingDistTotal: string, CountsOfReview: string, Language: string, pagesNumber: string, Description: string, Count of text reviews: string, RatingDist_1: string, RatingDist_2: string, RatingDist_3: string, RatingDist_4: string, RatingDist_5: string, RatingDist_total: string, Published_date: date]"
     ]
    }
   ],
   "source": [
    "\n",
    "df_books"
   ]
  },
  {
   "cell_type": "markdown",
   "metadata": {},
   "source": [
    "## Change DataType"
   ]
  },
  {
   "cell_type": "code",
   "execution_count": 18,
   "metadata": {
    "scrolled": true
   },
   "outputs": [
    {
     "data": {
      "application/vnd.jupyter.widget-view+json": {
       "model_id": "",
       "version_major": 2,
       "version_minor": 0
      },
      "text/plain": [
       "FloatProgress(value=0.0, bar_style='info', description='Progress:', layout=Layout(height='25px', width='50%'),…"
      ]
     },
     "metadata": {},
     "output_type": "display_data"
    },
    {
     "name": "stdout",
     "output_type": "stream",
     "text": [
      "root\n",
      " |-- Id: long (nullable = true)\n",
      " |-- Name: string (nullable = true)\n",
      " |-- Authors: string (nullable = true)\n",
      " |-- ISBN: string (nullable = true)\n",
      " |-- Rating: float (nullable = true)\n",
      " |-- Publisher: string (nullable = true)\n",
      " |-- CountsOfReview: integer (nullable = true)\n",
      " |-- Language: string (nullable = true)\n",
      " |-- pagesNumber: integer (nullable = true)\n",
      " |-- Description: string (nullable = true)\n",
      " |-- Count of text reviews: string (nullable = true)\n",
      " |-- RatingDist_1: integer (nullable = true)\n",
      " |-- RatingDist_2: integer (nullable = true)\n",
      " |-- RatingDist_3: integer (nullable = true)\n",
      " |-- RatingDist_4: integer (nullable = true)\n",
      " |-- RatingDist_5: integer (nullable = true)\n",
      " |-- RatingDist_total: integer (nullable = true)\n",
      " |-- Published_date: date (nullable = true)"
     ]
    }
   ],
   "source": [
    "# convert the columns datae types to the ones we need for future analysis\n",
    "# df_books.printSchema()\n",
    "df_books = df_books.withColumn(\"Id\",F.col(\"Id\").cast(\"bigint\"))\n",
    "df_books = df_books.withColumn(\"CountsOfReview\",F.col(\"CountsOfReview\").cast(\"int\"))\n",
    "df_books = df_books.withColumn(\"Rating\",F.col(\"Rating\").cast(\"float\"))\n",
    "df_books = df_books.withColumn(\"pagesNumber\",F.col(\"pagesNumber\").cast(\"int\"))\n",
    "df_books = df_books.withColumn(\"RatingDist_1\",F.col(\"RatingDist_1\").cast(\"int\"))\n",
    "df_books = df_books.withColumn(\"RatingDist_2\",F.col(\"RatingDist_2\").cast(\"int\"))\n",
    "df_books = df_books.withColumn(\"RatingDist_3\",F.col(\"RatingDist_3\").cast(\"int\"))\n",
    "df_books = df_books.withColumn(\"RatingDist_4\",F.col(\"RatingDist_4\").cast(\"int\"))\n",
    "df_books = df_books.withColumn(\"RatingDist_5\",F.col(\"RatingDist_5\").cast(\"int\"))\n",
    "df_books = df_books.withColumn(\"RatingDist_total\",F.col(\"RatingDist_total\").cast(\"int\"))\n",
    "df_books = df_books.withColumn(\"CountsOfReview\",F.col(\"CountsOfReview\").cast(\"int\"))\n",
    "\n",
    "df_books_final = df_books.drop(\"RatingDist1\",\"RatingDist2\",\"RatingDist3\",\"RatingDist4\",\"RatingDist5\",\"RatingDistTotal\",\"PublishMonth\",\"PublishDay\",\"PublishYear\")\n",
    "df_books_final.printSchema()"
   ]
  },
  {
   "cell_type": "code",
   "execution_count": 20,
   "metadata": {},
   "outputs": [
    {
     "data": {
      "application/vnd.jupyter.widget-view+json": {
       "model_id": "",
       "version_major": 2,
       "version_minor": 0
      },
      "text/plain": [
       "FloatProgress(value=0.0, bar_style='info', description='Progress:', layout=Layout(height='25px', width='50%'),…"
      ]
     },
     "metadata": {},
     "output_type": "display_data"
    },
    {
     "name": "stdout",
     "output_type": "stream",
     "text": [
      "DataFrame[]"
     ]
    }
   ],
   "source": [
    "df_books_final.createOrReplaceTempView(\"temp_table\") # create a table in to query and save in the hive to read\n",
    "spark.sql(\"create table book as select * from temp_table\");"
   ]
  },
  {
   "cell_type": "code",
   "execution_count": 34,
   "metadata": {},
   "outputs": [
    {
     "data": {
      "application/vnd.jupyter.widget-view+json": {
       "model_id": "",
       "version_major": 2,
       "version_minor": 0
      },
      "text/plain": [
       "FloatProgress(value=0.0, bar_style='info', description='Progress:', layout=Layout(height='25px', width='50%'),…"
      ]
     },
     "metadata": {},
     "output_type": "display_data"
    },
    {
     "name": "stdout",
     "output_type": "stream",
     "text": [
      "DataFrame[]"
     ]
    }
   ],
   "source": [
    "rt = spark.read.csv('s3://team10final/goodreads/rating_preprocessed.csv',header =True)\n",
    "rt.createOrReplaceTempView(\"temp_table1\")\n",
    "spark.sql(\"create table rating as select * from temp_table1\")"
   ]
  },
  {
   "cell_type": "code",
   "execution_count": 21,
   "metadata": {},
   "outputs": [
    {
     "data": {
      "application/vnd.jupyter.widget-view+json": {
       "model_id": "",
       "version_major": 2,
       "version_minor": 0
      },
      "text/plain": [
       "FloatProgress(value=0.0, bar_style='info', description='Progress:', layout=Layout(height='25px', width='50%'),…"
      ]
     },
     "metadata": {},
     "output_type": "display_data"
    },
    {
     "name": "stdout",
     "output_type": "stream",
     "text": [
      "+--------+------------+\n",
      "|Language|Num_of_books|\n",
      "+--------+------------+\n",
      "|    null|     1337073|\n",
      "|     eng|      167024|\n",
      "|   en-US|       20510|\n",
      "|     fre|       14394|\n",
      "|     ger|        9832|\n",
      "|   en-GB|        7271|\n",
      "|     spa|        6470|\n",
      "|     jpn|        1776|\n",
      "|     ita|         953|\n",
      "|     mul|         375|\n",
      "|     por|         355|\n",
      "|      nl|         300|\n",
      "|     rus|         253|\n",
      "|     swe|         219|\n",
      "|     zho|         198|\n",
      "|     pol|         168|\n",
      "|     per|         124|\n",
      "|     ind|         119|\n",
      "|     lat|         100|\n",
      "|     grc|          93|\n",
      "+--------+------------+"
     ]
    }
   ],
   "source": [
    "# 1. What is the distribution of books across languages?\n",
    "df1=spark.sql(\"select distinct Language,count(*) as Num_of_books FROM book GROUP BY Language order by Num_of_books desc limit 20\")\n",
    "df1.show()"
   ]
  },
  {
   "cell_type": "code",
   "execution_count": 24,
   "metadata": {},
   "outputs": [
    {
     "data": {
      "application/vnd.jupyter.widget-view+json": {
       "model_id": "",
       "version_major": 2,
       "version_minor": 0
      },
      "text/plain": [
       "FloatProgress(value=0.0, bar_style='info', description='Progress:', layout=Layout(height='25px', width='50%'),…"
      ]
     },
     "metadata": {},
     "output_type": "display_data"
    },
    {
     "name": "stdout",
     "output_type": "stream",
     "text": [
      "+--------------------+------------+\n",
      "|                Name|rate_of_book|\n",
      "+--------------------+------------+\n",
      "|Ibm Hacmp For Aix...|         5.0|\n",
      "|Ashton Kutcher: T...|         5.0|\n",
      "|    América indígena|         5.0|\n",
      "|Shock Rattle & Ro...|         5.0|\n",
      "|Birnbaum's Walt D...|         5.0|\n",
      "|fifty-one years: ...|         5.0|\n",
      "|Great Art Treasur...|         5.0|\n",
      "|       Robert Hayden|         5.0|\n",
      "|Contemporary Anti...|         5.0|\n",
      "|Cribbet and Johns...|         5.0|\n",
      "|Markedness: The E...|         5.0|\n",
      "|Renaissance to Ro...|         5.0|\n",
      "|The Old Man and t...|         5.0|\n",
      "|Good Clinical Pra...|         5.0|\n",
      "|Performance by De...|         5.0|\n",
      "|The Oyster and th...|         5.0|\n",
      "|Iran Hizbullah Ha...|         5.0|\n",
      "|The Redemption of...|         5.0|\n",
      "|The Pilot's Daughter|         5.0|\n",
      "|Unto the Last Gen...|         5.0|\n",
      "+--------------------+------------+"
     ]
    }
   ],
   "source": [
    "# 2. Which are the top 10 most rated books?\n",
    "df2=spark.sql(\"SELECT distinct Name, AVG(Rating) as rate_of_book FROM book GROUP BY Name ORDER BY rate_of_book DESC LIMIT 20\")\n",
    "df2.show()"
   ]
  },
  {
   "cell_type": "code",
   "execution_count": 25,
   "metadata": {},
   "outputs": [
    {
     "data": {
      "application/vnd.jupyter.widget-view+json": {
       "model_id": "",
       "version_major": 2,
       "version_minor": 0
      },
      "text/plain": [
       "FloatProgress(value=0.0, bar_style='info', description='Progress:', layout=Layout(height='25px', width='50%'),…"
      ]
     },
     "metadata": {},
     "output_type": "display_data"
    },
    {
     "name": "stdout",
     "output_type": "stream",
     "text": [
      "+--------------------+-----------+\n",
      "|             Authors|num_of_book|\n",
      "+--------------------+-----------+\n",
      "|                null|      30632|\n",
      "|           Anonymous|       2616|\n",
      "|             Unknown|       1613|\n",
      "| William Shakespeare|       1232|\n",
      "|     Francine Pascal|        906|\n",
      "|Cram101 Textbook ...|        861|\n",
      "|     Agatha Christie|        835|\n",
      "|Fodor's Travel Pu...|        797|\n",
      "|        Harold Bloom|        725|\n",
      "|        Isaac Asimov|        661|\n",
      "|       Carolyn Keene|        629|\n",
      "|             Various|        628|\n",
      "|        Nora Roberts|        619|\n",
      "|          R.L. Stine|        607|\n",
      "|        Stephen King|        603|\n",
      "|Hal Leonard Publi...|        579|\n",
      "|National Research...|        575|\n",
      "| Walt Disney Company|        536|\n",
      "|          NOT A BOOK|        516|\n",
      "|       Ann M. Martin|        498|\n",
      "+--------------------+-----------+"
     ]
    }
   ],
   "source": [
    "# 4. Which are the authors with most books?\n",
    "\n",
    "df3=spark.sql(\"SELECT Authors, count(*) AS num_of_book FROM book GROUP BY Authors ORDER BY num_of_book desc limit 20\")\n",
    "df3.show()"
   ]
  },
  {
   "cell_type": "code",
   "execution_count": 33,
   "metadata": {},
   "outputs": [
    {
     "data": {
      "application/vnd.jupyter.widget-view+json": {
       "model_id": "",
       "version_major": 2,
       "version_minor": 0
      },
      "text/plain": [
       "FloatProgress(value=0.0, bar_style='info', description='Progress:', layout=Layout(height='25px', width='50%'),…"
      ]
     },
     "metadata": {},
     "output_type": "display_data"
    },
    {
     "name": "stdout",
     "output_type": "stream",
     "text": [
      "+-------------------+------------+\n",
      "|            Authors|rate_of_book|\n",
      "+-------------------+------------+\n",
      "|     Kenneth Dorter|         5.0|\n",
      "| Larissa P. Watkins|         5.0|\n",
      "|Stacy Rae Rubalcaba|         5.0|\n",
      "| Rebecca Lynn Winer|         5.0|\n",
      "|     C. Wayne Owens|         5.0|\n",
      "|      David  Wolman|         5.0|\n",
      "|         Val Farmer|         5.0|\n",
      "|       Arthur Bowen|         5.0|\n",
      "|     John Breadsley|         5.0|\n",
      "|     B. Wayne Quist|         5.0|\n",
      "+-------------------+------------+"
     ]
    }
   ],
   "source": [
    "# 5.Which are the top 10 highly rated authors?\n",
    "\n",
    "\n",
    "df4=spark.sql(\"SELECT Distinct Authors, AVG(Rating) as rate_of_book FROM book GROUP BY Authors ORDER BY rate_of_book DESC LIMIT 10\")\n",
    "df4.show()\n",
    "\n"
   ]
  },
  {
   "cell_type": "code",
   "execution_count": 31,
   "metadata": {},
   "outputs": [
    {
     "data": {
      "application/vnd.jupyter.widget-view+json": {
       "model_id": "",
       "version_major": 2,
       "version_minor": 0
      },
      "text/plain": [
       "FloatProgress(value=0.0, bar_style='info', description='Progress:', layout=Layout(height='25px', width='50%'),…"
      ]
     },
     "metadata": {},
     "output_type": "display_data"
    }
   ],
   "source": [
    "df_books_final.write.option(\"delimiter\", \",\").option(\"header\",\"true\").csv(\"s3://team10final/goodreads/final\")"
   ]
  }
 ],
 "metadata": {
  "kernelspec": {
   "display_name": "PySpark",
   "language": "",
   "name": "pysparkkernel"
  },
  "language_info": {
   "codemirror_mode": {
    "name": "python",
    "version": 3
   },
   "mimetype": "text/x-python",
   "name": "pyspark",
   "pygments_lexer": "python3"
  }
 },
 "nbformat": 4,
 "nbformat_minor": 5
}
