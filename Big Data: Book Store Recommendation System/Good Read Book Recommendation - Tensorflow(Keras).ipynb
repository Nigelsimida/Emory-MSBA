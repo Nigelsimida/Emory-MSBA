{
 "cells": [
  {
   "cell_type": "code",
   "execution_count": 1,
   "id": "0cefbbe4",
   "metadata": {},
   "outputs": [
    {
     "name": "stdout",
     "output_type": "stream",
     "text": [
      "Starting Spark application\n"
     ]
    },
    {
     "data": {
      "text/html": [
       "<table>\n",
       "<tr><th>ID</th><th>YARN Application ID</th><th>Kind</th><th>State</th><th>Spark UI</th><th>Driver log</th><th>User</th><th>Current session?</th></tr><tr><td>6</td><td>application_1670220916827_0009</td><td>pyspark</td><td>idle</td><td><a target=\"_blank\" href=\"http://ip-172-31-23-225.ec2.internal:20888/proxy/application_1670220916827_0009/\">Link</a></td><td><a target=\"_blank\" href=\"http://ip-172-31-27-151.ec2.internal:8042/node/containerlogs/container_1670220916827_0009_01_000001/livy\">Link</a></td><td>None</td><td>✔</td></tr></table>"
      ],
      "text/plain": [
       "<IPython.core.display.HTML object>"
      ]
     },
     "metadata": {},
     "output_type": "display_data"
    },
    {
     "data": {
      "application/vnd.jupyter.widget-view+json": {
       "model_id": "",
       "version_major": 2,
       "version_minor": 0
      },
      "text/plain": [
       "FloatProgress(value=0.0, bar_style='info', description='Progress:', layout=Layout(height='25px', width='50%'),…"
      ]
     },
     "metadata": {},
     "output_type": "display_data"
    },
    {
     "name": "stdout",
     "output_type": "stream",
     "text": [
      "SparkSession available as 'spark'.\n"
     ]
    },
    {
     "data": {
      "application/vnd.jupyter.widget-view+json": {
       "model_id": "",
       "version_major": 2,
       "version_minor": 0
      },
      "text/plain": [
       "FloatProgress(value=0.0, bar_style='info', description='Progress:', layout=Layout(height='25px', width='50%'),…"
      ]
     },
     "metadata": {},
     "output_type": "display_data"
    }
   ],
   "source": [
    "from pyspark.sql import SparkSession\n",
    "from pyspark import SparkContext\n",
    "from functools import reduce\n",
    "from pyspark.sql import DataFrame\n",
    "from pyspark.sql import functions as F\n",
    "from pyspark import SparkFiles\n",
    "import numpy as np"
   ]
  },
  {
   "cell_type": "code",
   "execution_count": 2,
   "id": "27501150",
   "metadata": {},
   "outputs": [
    {
     "data": {
      "application/vnd.jupyter.widget-view+json": {
       "model_id": "",
       "version_major": 2,
       "version_minor": 0
      },
      "text/plain": [
       "FloatProgress(value=0.0, bar_style='info', description='Progress:', layout=Layout(height='25px', width='50%'),…"
      ]
     },
     "metadata": {},
     "output_type": "display_data"
    }
   ],
   "source": [
    "sc = SparkSession.builder.getOrCreate()"
   ]
  },
  {
   "cell_type": "markdown",
   "id": "5a92fb84",
   "metadata": {},
   "source": [
    "# Install Tensorflow if not installed"
   ]
  },
  {
   "cell_type": "code",
   "execution_count": 4,
   "id": "30ddaa44",
   "metadata": {},
   "outputs": [
    {
     "data": {
      "application/vnd.jupyter.widget-view+json": {
       "model_id": "",
       "version_major": 2,
       "version_minor": 0
      },
      "text/plain": [
       "FloatProgress(value=0.0, bar_style='info', description='Progress:', layout=Layout(height='25px', width='50%'),…"
      ]
     },
     "metadata": {},
     "output_type": "display_data"
    }
   ],
   "source": [
    "# %pip install tensorflow"
   ]
  },
  {
   "cell_type": "code",
   "execution_count": 20,
   "id": "083ab7f8",
   "metadata": {},
   "outputs": [],
   "source": [
    "%local\n",
    "import numpy as np\n",
    "import pandas as pd\n",
    "import tensorflow as tf\n",
    "import tensorflow as tf\n",
    "from tensorflow import keras\n",
    "from tensorflow.keras import layers\n",
    "import matplotlib.pyplot as plt\n",
    "plt.style.use(\"fivethirtyeight\")"
   ]
  },
  {
   "cell_type": "markdown",
   "id": "7882f8d2",
   "metadata": {},
   "source": [
    "# Read Data From S3"
   ]
  },
  {
   "cell_type": "code",
   "execution_count": 7,
   "id": "cc7c865c",
   "metadata": {},
   "outputs": [
    {
     "data": {
      "text/plain": [
       "(4118, 102744)"
      ]
     },
     "execution_count": 7,
     "metadata": {},
     "output_type": "execute_result"
    }
   ],
   "source": [
    "%%local\n",
    "df_user = pd.read_csv(\"s3://fnzoton-gbs/rating_preprocessed.csv\")\n",
    "user_ids = df_user[\"ID\"].unique().tolist()\n",
    "user2user_encoded = {x: i for i, x in enumerate(user_ids)}\n",
    "userencoded2user = {i: x for i, x in enumerate(user_ids)}\n",
    "book_ids = df_user[\"Name\"].unique().tolist()\n",
    "book2book_encoded = {x: i for i, x in enumerate(book_ids)}\n",
    "book_encoded2book = {i: x for i, x in enumerate(book_ids)}\n",
    "df_user[\"user\"] = df_user[\"ID\"].map(user2user_encoded)\n",
    "df_user[\"book\"] = df_user[\"Name\"].map(book2book_encoded)\n",
    "\n",
    "df_user = df_user.drop(\"Index\",axis=1)\n",
    "num_users = len(df_user[\"User\"].unique())\n",
    "num_books = len(df_user[\"Book\"].unique())\n",
    "num_users, num_books"
   ]
  },
  {
   "cell_type": "markdown",
   "id": "815f9838",
   "metadata": {},
   "source": [
    "# Create Recommeder Neural Net"
   ]
  },
  {
   "cell_type": "code",
   "execution_count": 8,
   "id": "77a61383",
   "metadata": {},
   "outputs": [],
   "source": [
    "%local\n",
    "EMBEDDING_SIZE = 50\n",
    "class RecommenderNet(keras.Model):\n",
    "    def __init__(self, num_users, num_books, embedding_size, **kwargs):\n",
    "        super(RecommenderNet, self).__init__(**kwargs)\n",
    "        self.num_users = num_users\n",
    "        self.num_books = num_books\n",
    "        self.embedding_size = embedding_size\n",
    "        self.user_embedding = layers.Embedding(\n",
    "            num_users,\n",
    "            embedding_size,\n",
    "            embeddings_initializer=\"he_normal\",\n",
    "            embeddings_regularizer=keras.regularizers.l2(1e-6),\n",
    "        )\n",
    "        self.user_bias = layers.Embedding(num_users, 1)\n",
    "        self.book_embedding = layers.Embedding(\n",
    "            num_books,\n",
    "            embedding_size,\n",
    "            embeddings_initializer=\"he_normal\",\n",
    "            embeddings_regularizer=keras.regularizers.l2(1e-6),\n",
    "        )\n",
    "        self.book_bias = layers.Embedding(num_books, 1)\n",
    "\n",
    "    def call(self, inputs):\n",
    "        user_vector = self.user_embedding(inputs[:, 0])\n",
    "        user_bias = self.user_bias(inputs[:, 0])\n",
    "        book_vector = self.book_embedding(inputs[:, 1])\n",
    "        book_bias = self.book_bias(inputs[:, 1])\n",
    "        dot_user_book = tf.tensordot(user_vector, book_vector, 2)\n",
    "        # Add all the components (including bias)\n",
    "        x = dot_user_book + user_bias + book_bias\n",
    "        # The sigmoid activation forces the rating to between 0 and 1\n",
    "        return tf.nn.sigmoid(x)\n",
    "\n",
    "\n",
    "model = RecommenderNet(num_users, num_books, EMBEDDING_SIZE)\n",
    "model.compile(\n",
    "    loss=tf.keras.losses.BinaryCrossentropy(),\n",
    "    optimizer=keras.optimizers.Adam(learning_rate=0.001),\n",
    ")"
   ]
  },
  {
   "cell_type": "markdown",
   "id": "a95fd6e1",
   "metadata": {},
   "source": [
    "# Prepared Dataset"
   ]
  },
  {
   "cell_type": "code",
   "execution_count": 9,
   "id": "4b3f6155",
   "metadata": {},
   "outputs": [],
   "source": [
    "%local\n",
    "min_rating = min(df_user[\"Scores\"])\n",
    "max_rating = max(df_user[\"Scores\"])\n",
    "\n",
    "df_user = df_user.sample(frac=1, random_state=42)\n",
    "x = df_user[[\"User\", \"Book\"]].values\n",
    "# Normalize the targets between 0 and 1. Makes it easy to train.\n",
    "y = df_user[\"Scores\"].apply(lambda x: (x - min_rating) / (max_rating - min_rating)).values\n",
    "# Assuming training on 90% of the data and validating on 10%.\n",
    "train_indices = int(0.9 * df_user.shape[0])\n",
    "x_train, x_val, y_train, y_val = (x[:train_indices],x[train_indices:],y[:train_indices], y[train_indices:])"
   ]
  },
  {
   "cell_type": "markdown",
   "id": "9af8428f",
   "metadata": {},
   "source": [
    "# Train Model"
   ]
  },
  {
   "cell_type": "code",
   "execution_count": 10,
   "id": "0751bc3c",
   "metadata": {},
   "outputs": [
    {
     "name": "stdout",
     "output_type": "stream",
     "text": [
      "Epoch 1/5\n",
      "4818/4818 [==============================] - 196s 41ms/step - loss: 0.3764 - val_loss: 0.3242\n",
      "Epoch 2/5\n",
      "4818/4818 [==============================] - 188s 39ms/step - loss: 0.3169 - val_loss: 0.3202\n",
      "Epoch 3/5\n",
      "4818/4818 [==============================] - 190s 39ms/step - loss: 0.3103 - val_loss: 0.3159\n",
      "Epoch 4/5\n",
      "4818/4818 [==============================] - 189s 39ms/step - loss: 0.3057 - val_loss: 0.3159\n",
      "Epoch 5/5\n",
      "4818/4818 [==============================] - 184s 38ms/step - loss: 0.3043 - val_loss: 0.3206\n"
     ]
    }
   ],
   "source": [
    "%local \n",
    "history = model.fit(x=x_train, y=y_train, batch_size=64, epochs=5, verbose=1, validation_data=(x_val, y_val))"
   ]
  },
  {
   "cell_type": "markdown",
   "id": "6b176c6c",
   "metadata": {},
   "source": [
    "# Plot Training and Validation Loss"
   ]
  },
  {
   "cell_type": "code",
   "execution_count": 21,
   "id": "b5989bba",
   "metadata": {},
   "outputs": [
    {
     "data": {
      "image/png": "[encoded data removed]",
      "text/plain": [
       "<Figure size 864x504 with 1 Axes>"
      ]
     },
     "metadata": {},
     "output_type": "display_data"
    }
   ],
   "source": [
    "%local\n",
    "plt.figure(figsize=(12,7))\n",
    "plt.plot(history.history[\"loss\"])\n",
    "plt.plot(history.history[\"val_loss\"])\n",
    "plt.title(\"model loss\")\n",
    "plt.ylabel(\"loss\")\n",
    "plt.xlabel(\"epoch\")\n",
    "plt.legend([\"train\", \"test\"], loc=\"upper right\")\n",
    "plt.show()"
   ]
  },
  {
   "cell_type": "markdown",
   "id": "d88a0073",
   "metadata": {},
   "source": [
    "# Generate Top 10 Book Recommendation Predictions\n",
    "## Prediction 1"
   ]
  },
  {
   "cell_type": "code",
   "execution_count": 41,
   "id": "4e9601e8",
   "metadata": {},
   "outputs": [
    {
     "name": "stdout",
     "output_type": "stream",
     "text": [
      "3205/3205 [==============================] - 3s 844us/step\n",
      "=============TOP  10 RECOMMENDED BOOK================\n",
      "Becoming\n",
      "The BFG\n",
      "Binti (Binti, #1)\n",
      "Zeitoun\n",
      "رباعيات خيام\n",
      "Maus II: A Survivor's Tale: And Here My Troubles Began (Maus, #2)\n",
      "The Cider House Rules\n",
      "There There\n",
      "Hyperion (Hyperion Cantos, #1)\n",
      "The Martian\n",
      "=============TOP  5 BOOKS READ BY USER================\n",
      "The Book Thief\n",
      "Good Night Stories for Rebel Girls: 100 Tales of Extraordinary Women\n",
      "The Big Book of Birth\n",
      "Pride and Prejudice\n",
      "Catching Fire (The Hunger Games, #2)\n"
     ]
    }
   ],
   "source": [
    "%local\n",
    "user_id = df_user.ID.sample(1).iloc[0]\n",
    "book_read_by_user = df_user[df_user.ID == user_id]\n",
    "book_not_read = df_user[~df_user.Name.isin(book_read_by_user.Name)][\"book\"].unique()\n",
    "x_test = np.array([[user_id]*len(book_not_read),book_not_read]).T\n",
    "predictions = model.predict(x_test)\n",
    "\n",
    "x_test_ypred = np.concatenate((x_test,predictions),axis=1)\n",
    "top_10_books = x_test_ypred[(-x_test_ypred[:,2]).argsort()][:10,1]\n",
    "print(\"=============TOP  10 RECOMMENDED BOOK================\")\n",
    "for bookId in top_10_books:\n",
    "    print(book_encoded2book.get(bookId))\n",
    "    \n",
    "print(\"=============TOP  5 BOOKS READ BY USER================\")\n",
    "top_5_books = book_read_by_user.sort_values(\"Scores\",ascending=False)[\"Name\"][:5].to_list()\n",
    "for book in top_5_books:\n",
    "    print(book)"
   ]
  },
  {
   "cell_type": "markdown",
   "id": "8ecb2166",
   "metadata": {},
   "source": [
    "## Prediction 2"
   ]
  },
  {
   "cell_type": "code",
   "execution_count": 29,
   "id": "be60e176",
   "metadata": {},
   "outputs": [
    {
     "name": "stdout",
     "output_type": "stream",
     "text": [
      "3198/3198 [==============================] - 3s 830us/step\n",
      "=============TOP  10 RECOMMENDED BOOK================\n",
      "Between the World and Me\n",
      "Becoming\n",
      "Pachinko\n",
      "Maus II: A Survivor's Tale: And Here My Troubles Began (Maus, #2)\n",
      "The Things They Carried\n",
      "Maus I: A Survivor's Tale: My Father Bleeds History (Maus, #1)\n",
      "Commonwealth\n",
      "The Lord of the Rings (The Lord of the Rings, #1-3)\n",
      "The Nickel Boys\n",
      "The Nightingale\n",
      "=============TOP  5 BOOKS READ BY USER================\n",
      "The Girl Who Played with Fire (Millennium, #2)\n",
      "Jitterbug Perfume\n",
      "Blood Red Road (Dust Lands, #1)\n",
      "The Dovekeepers\n",
      "Fever Pitch\n"
     ]
    }
   ],
   "source": [
    "%local\n",
    "user_id = df_user.ID.sample(1).iloc[0]\n",
    "book_read_by_user = df_user[df_user.ID == user_id]\n",
    "book_not_read = df_user[~df_user.Name.isin(book_read_by_user.Name)][\"book\"].unique()\n",
    "x_test = np.array([[user_id]*len(book_not_read),book_not_read]).T\n",
    "predictions = model.predict(x_test)\n",
    "\n",
    "x_test_ypred = np.concatenate((x_test,predictions),axis=1)\n",
    "top_10_books = x_test_ypred[(-x_test_ypred[:,2]).argsort()][:10,1]\n",
    "print(\"=============TOP  10 RECOMMENDED BOOK================\")\n",
    "for bookId in top_10_books:\n",
    "    print(book_encoded2book.get(bookId))\n",
    "    \n",
    "print(\"=============TOP  5 BOOKS READ BY USER================\")\n",
    "top_5_books = book_read_by_user.sort_values(\"Scores\",ascending=False)[\"Name\"][:5].to_list()\n",
    "for book in top_5_books:\n",
    "    print(book)"
   ]
  },
  {
   "cell_type": "markdown",
   "id": "6ac5bef2",
   "metadata": {},
   "source": [
    "# Prediction 3"
   ]
  },
  {
   "cell_type": "code",
   "execution_count": 42,
   "id": "d8369f98",
   "metadata": {},
   "outputs": [
    {
     "name": "stdout",
     "output_type": "stream",
     "text": [
      "3210/3210 [==============================] - 3s 803us/step\n",
      "=============TOP  10 RECOMMENDED BOOK================\n",
      "Between the World and Me\n",
      "The Lord of the Rings (The Lord of the Rings, #1-3)\n",
      "Becoming\n",
      "The Nightingale\n",
      "The BFG\n",
      "Zeitoun\n",
      "Pachinko\n",
      "When Breath Becomes Air\n",
      "Wonder (Wonder, #1)\n",
      "The Things They Carried\n",
      "=============TOP  5 BOOKS READ BY USER================\n",
      "One Hundred Years of Solitude\n",
      "Jude the Obscure\n",
      "Far from the Madding Crowd\n",
      "A Soldier of the Great War\n",
      "The House of the Spirits\n"
     ]
    }
   ],
   "source": [
    "%local\n",
    "user_id = df_user.ID.sample(1).iloc[0]\n",
    "book_read_by_user = df_user[df_user.ID == user_id]\n",
    "book_not_read = df_user[~df_user.Name.isin(book_read_by_user.Name)][\"book\"].unique()\n",
    "x_test = np.array([[user_id]*len(book_not_read),book_not_read]).T\n",
    "predictions = model.predict(x_test)\n",
    "\n",
    "x_test_ypred = np.concatenate((x_test,predictions),axis=1)\n",
    "top_10_books = x_test_ypred[(-x_test_ypred[:,2]).argsort()][:10,1]\n",
    "print(\"=============TOP  10 RECOMMENDED BOOK================\")\n",
    "for bookId in top_10_books:\n",
    "    print(book_encoded2book.get(bookId))\n",
    "    \n",
    "print(\"=============TOP  5 BOOKS READ BY USER================\")\n",
    "top_5_books = book_read_by_user.sort_values(\"Scores\",ascending=False)[\"Name\"][:5].to_list()\n",
    "for book in top_5_books:\n",
    "    print(book)"
   ]
  },
  {
   "cell_type": "code",
   "execution_count": null,
   "id": "3ffc1a7d",
   "metadata": {},
   "outputs": [],
   "source": []
  }
 ],
 "metadata": {
  "kernelspec": {
   "display_name": "PySpark",
   "language": "python",
   "name": "pysparkkernel"
  },
  "language_info": {
   "codemirror_mode": {
    "name": "python",
    "version": 3
   },
   "file_extension": ".py",
   "mimetype": "text/x-python",
   "name": "pyspark",
   "pygments_lexer": "python3"
  }
 },
 "nbformat": 4,
 "nbformat_minor": 5
}
